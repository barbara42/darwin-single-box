{
 "cells": [
  {
   "cell_type": "code",
   "execution_count": 37,
   "id": "229b118b",
   "metadata": {},
   "outputs": [],
   "source": [
    "import struct\n",
    "import os"
   ]
  },
  {
   "cell_type": "code",
   "execution_count": 59,
   "id": "2d00cd1c",
   "metadata": {},
   "outputs": [],
   "source": [
    "# GOAL: for each ed and es file, create one that is 12x1 filled with a constant value \n",
    "\n",
    "# index for choosing which value to use (might want to change it in the future to be at equator)\n",
    "index = 0\n",
    "output_folder = 'constant_' + str(index)\n",
    "\n",
    "if not os.path.exists(output_folder):\n",
    "    os.makedirs(output_folder)\n",
    "\n",
    "for file in os.listdir():\n",
    "    if 'edp' in file:\n",
    "        single_value = get_single_value(file)\n",
    "        new_data = [single_value] * 12\n",
    "        new_file_name = file[file.index('edp'):file.index('edp')+5]\n",
    "        new_file_name = 'single_box_' + new_file_name + '.bin'\n",
    "        fout = open(output_folder + \"/\" + new_file_name, 'wb')\n",
    "        fout.write(struct.pack('>' + 'i'*12, *new_data))\n",
    "        fout.close()\n",
    "    elif 'esp' in file:\n",
    "        single_value = get_single_value(file)\n",
    "        new_data = [single_value] * 12\n",
    "        new_file_name = file[file.index('esp'):file.index('esp')+5]\n",
    "        new_file_name = 'single_box_' + new_file_name + '.bin'\n",
    "        fout = open(output_folder + \"/\" + new_file_name, 'wb')\n",
    "        fout.write(struct.pack('>' + 'i'*12, *new_data))\n",
    "        fout.close()"
   ]
  },
  {
   "cell_type": "code",
   "execution_count": 49,
   "id": "72f0f44a",
   "metadata": {},
   "outputs": [],
   "source": [
    "def get_single_value(file_name):\n",
    "    with open(file_name, mode='rb') as file: # b is important -> binary\n",
    "        file_content = file.read()\n",
    "    bin_contents = struct.unpack(\">\" + \"i\" * (len(file_content) // 4), file_content)\n",
    "    return bin_contents[0]"
   ]
  },
  {
   "cell_type": "code",
   "execution_count": null,
   "id": "f6e87fa9",
   "metadata": {},
   "outputs": [],
   "source": []
  },
  {
   "cell_type": "code",
   "execution_count": null,
   "id": "5a74f434",
   "metadata": {},
   "outputs": [],
   "source": []
  },
  {
   "cell_type": "code",
   "execution_count": null,
   "id": "5e5027e5",
   "metadata": {},
   "outputs": [],
   "source": []
  }
 ],
 "metadata": {
  "kernelspec": {
   "display_name": "Python [conda env:eaps-env]",
   "language": "python",
   "name": "conda-env-eaps-env-py"
  },
  "language_info": {
   "codemirror_mode": {
    "name": "ipython",
    "version": 3
   },
   "file_extension": ".py",
   "mimetype": "text/x-python",
   "name": "python",
   "nbconvert_exporter": "python",
   "pygments_lexer": "ipython3",
   "version": "3.9.9"
  }
 },
 "nbformat": 4,
 "nbformat_minor": 5
}
