{
 "cells": [
  {
   "cell_type": "code",
   "execution_count": 17,
   "id": "229b118b",
   "metadata": {},
   "outputs": [],
   "source": [
    "import struct\n",
    "import os\n",
    "import numpy as np"
   ]
  },
  {
   "cell_type": "code",
   "execution_count": 34,
   "id": "2d00cd1c",
   "metadata": {},
   "outputs": [
    {
     "name": "stdout",
     "output_type": "stream",
     "text": [
      "chosen value:  1086960465\n",
      "chosen value:  1073251418\n",
      "chosen value:  1082491478\n",
      "chosen value:  1088289182\n",
      "chosen value:  1087253494\n",
      "chosen value:  1068720605\n",
      "chosen value:  1088503822\n",
      "chosen value:  1084210612\n",
      "chosen value:  1087888220\n",
      "chosen value:  1077525532\n",
      "chosen value:  1082799005\n",
      "chosen value:  1087996106\n",
      "chosen value:  1087839037\n",
      "chosen value:  1072614427\n",
      "chosen value:  1084305329\n",
      "chosen value:  1083495588\n",
      "chosen value:  1088553295\n",
      "chosen value:  1077676039\n",
      "chosen value:  1078989945\n",
      "chosen value:  1081930094\n",
      "chosen value:  1083158196\n",
      "chosen value:  1086163739\n",
      "chosen value:  1080108728\n",
      "chosen value:  1084098185\n",
      "chosen value:  1088203485\n",
      "chosen value:  1080546301\n"
     ]
    }
   ],
   "source": [
    "# GOAL: for each ed and es file, create one that is 12x1 filled with a constant value \n",
    "\n",
    "# index for choosing which value to use (might want to change it in the future to be at equator)\n",
    "lon = 200\n",
    "lat = 100\n",
    "month = 0\n",
    "# NOTE: must be even(?) num characters, something mod 3?\n",
    "#output_folder = f'constant_{lon}_{lat}_0{month}XXX'\n",
    "output_folder = f'cons_{lon}_{lat}'\n",
    "\n",
    "if not os.path.exists(output_folder):\n",
    "    os.makedirs(output_folder)\n",
    "\n",
    "for file in os.listdir('original/'):\n",
    "    file = \"original/\" + file\n",
    "    if 'edp' in file:\n",
    "        single_value = get_single_value(file, lon, lat, month)\n",
    "        print(\"chosen value: \", single_value)\n",
    "        new_data = [single_value] * 12\n",
    "        new_file_name = file[file.index('edp'):file.index('edp')+5]\n",
    "        new_file_name = 'single_box_' + new_file_name + '.bin'\n",
    "        fout = open(output_folder + \"/\" + new_file_name, 'wb')\n",
    "        fout.write(struct.pack('>' + 'i'*12, *new_data))\n",
    "        fout.close()\n",
    "    elif 'esp' in file:\n",
    "        single_value = get_single_value(file, lon, lat, month)\n",
    "        print(\"chosen value: \", single_value)\n",
    "        new_data = [single_value] * 12\n",
    "        new_file_name = file[file.index('esp'):file.index('esp')+5]\n",
    "        new_file_name = 'single_box_' + new_file_name + '.bin'\n",
    "        fout = open(output_folder + \"/\" + new_file_name, 'wb')\n",
    "        fout.write(struct.pack('>' + 'i'*12, *new_data))\n",
    "        fout.close()"
   ]
  },
  {
   "cell_type": "code",
   "execution_count": 25,
   "id": "72f0f44a",
   "metadata": {},
   "outputs": [],
   "source": [
    "# lon: 0 - 359\n",
    "# lat = 0 - 159 (0=south, above 180 is northern hemisphere)\n",
    "# month = 0-11\n",
    "def get_single_value(file_name, lon, lat, month):\n",
    "    with open(file_name, mode='rb') as file: # b is important -> binary\n",
    "        file_content = file.read()\n",
    "    bin_contents = struct.unpack(\">\" + \"i\" * (len(file_content) // 4), file_content)\n",
    "    contents = np.array(bin_contents).reshape(360, 160, 12)\n",
    "    return contents[lon, lat, month]"
   ]
  },
  {
   "cell_type": "code",
   "execution_count": null,
   "id": "f6e87fa9",
   "metadata": {},
   "outputs": [],
   "source": [
    "chosen value:  1087417448\n",
    "chosen value:  1073083005\n",
    "chosen value:  1081489246\n",
    "chosen value:  1088795504\n",
    "chosen value:  1087595967\n",
    "chosen value:  1067682134\n",
    "chosen value:  1088934006\n",
    "chosen value:  1084600832\n",
    "chosen value:  1088256033\n",
    "chosen value:  1076427697\n",
    "chosen value:  1082163134\n",
    "chosen value:  1088488641\n",
    "chosen value:  1088232127\n",
    "chosen value:  1073182000\n",
    "chosen value:  1083877068\n",
    "chosen value:  1082904945\n",
    "chosen value:  1089013299\n",
    "chosen value:  1077934692\n",
    "chosen value:  1077796528\n",
    "chosen value:  1080550438\n",
    "chosen value:  1082934780\n",
    "chosen value:  1086426303\n",
    "chosen value:  1078827001\n",
    "chosen value:  1083558908\n",
    "chosen value:  1088682252\n",
    "chosen value:  1079240019"
   ]
  },
  {
   "cell_type": "code",
   "execution_count": null,
   "id": "5a74f434",
   "metadata": {},
   "outputs": [],
   "source": []
  },
  {
   "cell_type": "code",
   "execution_count": null,
   "id": "5e5027e5",
   "metadata": {},
   "outputs": [],
   "source": []
  },
  {
   "cell_type": "code",
   "execution_count": null,
   "id": "900b1672",
   "metadata": {},
   "outputs": [],
   "source": []
  },
  {
   "cell_type": "code",
   "execution_count": null,
   "id": "976549ea",
   "metadata": {},
   "outputs": [],
   "source": []
  }
 ],
 "metadata": {
  "kernelspec": {
   "display_name": "Python [conda env:eaps-env]",
   "language": "python",
   "name": "conda-env-eaps-env-py"
  },
  "language_info": {
   "codemirror_mode": {
    "name": "ipython",
    "version": 3
   },
   "file_extension": ".py",
   "mimetype": "text/x-python",
   "name": "python",
   "nbconvert_exporter": "python",
   "pygments_lexer": "ipython3",
   "version": "3.9.9"
  }
 },
 "nbformat": 4,
 "nbformat_minor": 5
}
